{
 "cells": [
  {
   "cell_type": "markdown",
   "metadata": {},
   "source": [
    "# Obitools installation/setup\n",
    "Obitools3 was installed with git both on our computational cluster and my computer in a virtual environment. Use the following to activate the virtual environment."
   ]
  },
  {
   "cell_type": "code",
   "execution_count": 7,
   "metadata": {},
   "outputs": [
    {
     "name": "stdout",
     "output_type": "stream",
     "text": [
      "(obi3-env) "
     ]
    },
    {
     "ename": "",
     "evalue": "1",
     "output_type": "error",
     "traceback": []
    }
   ],
   "source": [
    "source ./obitools3/obi3-env/bin/activate"
   ]
  },
  {
   "cell_type": "markdown",
   "metadata": {},
   "source": [
    "# Data processing\n",
    "## Import data\n",
    "Demultiplexed data was imported from paired-end fastq files and ngsfilter files (one per sample per barcoding marker) using the import.sh script on the computational cluster."
   ]
  },
  {
   "cell_type": "markdown",
   "metadata": {},
   "source": [
    "## Sequence processing\n",
    "Pair the reads, remove unaligned reads, remove PCR artifacts and assign reads to samples using the obi_process.sh script on the computational cluster.\n",
    "\n",
    "## Clean the data\n",
    "Annotate sequence readers with sample names, concatenate all samples into one database, remove low-count sequences, and remove PCR/sequencing errors using the obi_clean.sh script on the computational cluster.\n",
    "\n",
    "Download the DMS's from the cluster."
   ]
  },
  {
   "cell_type": "markdown",
   "metadata": {},
   "source": [
    "# Assigning sequences to the reference\n",
    "## Build reference database\n",
    "Download the EMBL database (minus environmental and humans sequences) and the NCBI taxonomy to your computer."
   ]
  },
  {
   "cell_type": "code",
   "execution_count": null,
   "metadata": {},
   "outputs": [],
   "source": [
    "wget -nH --cut-dirs=5 -A rel_std_\\*.dat.gz -R rel_std_hum_\\*.dat.gz,rel_std_env_\\*.dat.gz -m ftp://ftp.ebi.ac.uk/pub/databases/embl/release/std/\n",
    "wget ftp://ftp.ncbi.nlm.nih.gov/pub/taxonomy/taxdump.tar.gz"
   ]
  },
  {
   "cell_type": "markdown",
   "metadata": {},
   "source": [
    "Import the sequences and taxonomy into the DMS's on your computer."
   ]
  },
  {
   "cell_type": "code",
   "execution_count": null,
   "metadata": {},
   "outputs": [],
   "source": [
    "obi import --embl /Users/elizabethmallott/EMBL /Users/elizabethmallott/Dropbox/Projects/gut_microbiome/Caatinga_marmosets/diet_data/taxonomy/embl_refs"
   ]
  },
  {
   "cell_type": "code",
   "execution_count": null,
   "metadata": {},
   "outputs": [],
   "source": [
    "obi import --taxdump /Users/elizabethmallott/taxdump.tar.gz /Users/elizabethmallott/Dropbox/Projects/gut_microbiome/Caatinga_marmosets/diet_data/taxonomy/taxonomy/ncbi_tax"
   ]
  },
  {
   "cell_type": "markdown",
   "metadata": {},
   "source": [
    "Use ecoPCR to extract the sequences of interest from the database. Do once for each primer set/barcode and output results to sequence DMS's. For the invertebrate database, ecopcr was restricted to sequences within Arthropoda to reduce the size of the reference database."
   ]
  },
  {
   "cell_type": "code",
   "execution_count": null,
   "metadata": {},
   "outputs": [],
   "source": [
    "obi ecopcr -e 0 -l 220 -L 240 --restrict-to-taxid 6656 -F GGATGAACWGTNTAYCCNCC -R ATTHARATTTCGRTCWGTTA --taxonomy /Users/elizabethmallott/Dropbox/Projects/gut_microbiome/Caatinga_marmosets/diet_data/taxonomy/taxonomy/ncbi_tax /Users/elizabethmallott/Dropbox/Projects/gut_microbiome/Caatinga_marmosets/diet_data/taxonomy/embl_refs /Users/elizabethmallott/Dropbox/Projects/gut_microbiome/Caatinga_marmosets/diet_data/taxonomy_invert_small/081720_coi_refs\n",
    "obi import --taxdump /Users/elizabethmallott/taxdump.tar.gz /Users/elizabethmallott/Dropbox/Projects/gut_microbiome/Caatinga_marmosets/diet_data/taxonomy_invert_small/taxonomy/ncbi_tax\n",
    "obi ecopcr -e 3 -l 25 -L 200 -F GGGCAATCCTGAGCCAA -R CCATTGAGTCTCTGCACCTATC --taxonomy /Users/elizabethmallott/Dropbox/Projects/gut_microbiome/Caatinga_marmosets/diet_data/taxonomy/taxonomy/ncbi_tax /Users/elizabethmallott/Dropbox/Projects/gut_microbiome/Caatinga_marmosets/diet_data/taxonomy/embl_refs /Users/elizabethmallott/Dropbox/Projects/gut_microbiome/Caatinga_marmosets/diet_data/taxonomy/081720_trnl_refs\n",
    "obi ecopcr -e 3 -l 100 -L 200 -F TAGAACAGGCTCCTCTAG -R TTAGATACCCCACTATGC --taxonomy /Users/elizabethmallott/Dropbox/Projects/gut_microbiome/Caatinga_marmosets/diet_data/taxonomy/taxonomy/ncbi_tax /Users/elizabethmallott/Dropbox/Projects/gut_microbiome/Caatinga_marmosets/diet_data/taxonomy/embl_refs /Users/elizabethmallott/Dropbox/Projects/gut_microbiome/Caatinga_marmosets/diet_data/taxonomy/081720_12S_refs\n",
    "obi ecopcr -e 3 -l 200 -L 300 -F GCCTGTTTACCAAAAACATCAC -R CTCCATAGGGTCTTCTCGTCTT -r 7742 --taxonomy /Users/elizabethmallott/Dropbox/Projects/gut_microbiome/Caatinga_marmosets/diet_data/taxonomy/taxonomy/ncbi_tax /Users/elizabethmallott/Dropbox/Projects/gut_microbiome/Caatinga_marmosets/diet_data/taxonomy/embl_refs /Users/elizabethmallott/Dropbox/Projects/gut_microbiome/Caatinga_marmosets/diet_data/taxonomy/081720_16S_refs"
   ]
  },
  {
   "cell_type": "markdown",
   "metadata": {},
   "source": [
    "## Clean the reference databases\n",
    "Remove sequences without a description species, genus, AND family levels. "
   ]
  },
  {
   "cell_type": "code",
   "execution_count": null,
   "metadata": {},
   "outputs": [],
   "source": [
    "obi grep --require-rank=species --require-rank=genus --require-rank=family --taxonomy /Users/elizabethmallott/Dropbox/Projects/gut_microbiome/Caatinga_marmosets/diet_data/taxonomy_invert_small/taxonomy/ncbi_tax /Users/elizabethmallott/Dropbox/Projects/gut_microbiome/Caatinga_marmosets/diet_data/taxonomy_invert_small/081720_coi_refs /Users/elizabethmallott/Dropbox/Projects/gut_microbiome/Caatinga_marmosets/diet_data/taxonomy_invert_small/081720_coi_refs_clean\n",
    "obi grep --require-rank=species --require-rank=genus --require-rank=family --taxonomy /Users/elizabethmallott/Dropbox/Projects/gut_microbiome/Caatinga_marmosets/diet_data/taxonomy/taxonomy/ncbi_tax /Users/elizabethmallott/Dropbox/Projects/gut_microbiome/Caatinga_marmosets/diet_data/taxonomy/081720_trnl_refs /Users/elizabethmallott/Dropbox/Projects/gut_microbiome/Caatinga_marmosets/diet_data/taxonomy/081720_trnl_refs_clean\n",
    "obi grep --require-rank=species --require-rank=genus --require-rank=family --taxonomy /Users/elizabethmallott/Dropbox/Projects/gut_microbiome/Caatinga_marmosets/diet_data/taxonomy/taxonomy/ncbi_tax /Users/elizabethmallott/Dropbox/Projects/gut_microbiome/Caatinga_marmosets/diet_data/taxonomy/081720_12S_refs /Users/elizabethmallott/Dropbox/Projects/gut_microbiome/Caatinga_marmosets/diet_data/taxonomy/081720_12S_refs_clean\n",
    "obi grep --require-rank=species --require-rank=genus --require-rank=family --taxonomy /Users/elizabethmallott/Dropbox/Projects/gut_microbiome/Caatinga_marmosets/diet_data/taxonomy/taxonomy/ncbi_tax /Users/elizabethmallott/Dropbox/Projects/gut_microbiome/Caatinga_marmosets/diet_data/taxonomy/081720_16S_refs /Users/elizabethmallott/Dropbox/Projects/gut_microbiome/Caatinga_marmosets/diet_data/taxonomy/081720_16S_refs_clean"
   ]
  },
  {
   "cell_type": "markdown",
   "metadata": {},
   "source": [
    "Dereplicate sequences in the reference database and make sure they are identified at the family level."
   ]
  },
  {
   "cell_type": "code",
   "execution_count": null,
   "metadata": {},
   "outputs": [],
   "source": [
    "obi uniq --taxonomy /Users/elizabethmallott/Dropbox/Projects/gut_microbiome/Caatinga_marmosets/diet_data/taxonomy_invert_small/taxonomy/ncbi_tax /Users/elizabethmallott/Dropbox/Projects/gut_microbiome/Caatinga_marmosets/diet_data/taxonomy_invert_small/081720_coi_refs_clean /Users/elizabethmallott/Dropbox/Projects/gut_microbiome/Caatinga_marmosets/diet_data/taxonomy_invert_small/081720_coi_refs_uniq\n",
    "obi uniq --taxonomy /Users/elizabethmallott/Dropbox/Projects/gut_microbiome/Caatinga_marmosets/diet_data/taxonomy/taxonomy/ncbi_tax /Users/elizabethmallott/Dropbox/Projects/gut_microbiome/Caatinga_marmosets/diet_data/taxonomy/081720_trnl_refs_clean /Users/elizabethmallott/Dropbox/Projects/gut_microbiome/Caatinga_marmosets/diet_data/taxonomy/081720_trnl_refs_uniq\n",
    "obi uniq --taxonomy /Users/elizabethmallott/Dropbox/Projects/gut_microbiome/Caatinga_marmosets/diet_data/taxonomy/taxonomy/ncbi_tax /Users/elizabethmallott/Dropbox/Projects/gut_microbiome/Caatinga_marmosets/diet_data/taxonomy/081720_12S_refs_clean /Users/elizabethmallott/Dropbox/Projects/gut_microbiome/Caatinga_marmosets/diet_data/taxonomy/081720_12S_refs_uniq\n",
    "obi uniq --taxonomy /Users/elizabethmallott/Dropbox/Projects/gut_microbiome/Caatinga_marmosets/diet_data/taxonomy/taxonomy/ncbi_tax /Users/elizabethmallott/Dropbox/Projects/gut_microbiome/Caatinga_marmosets/diet_data/taxonomy/081720_16S_refs_clean /Users/elizabethmallott/Dropbox/Projects/gut_microbiome/Caatinga_marmosets/diet_data/taxonomy/081720_16S_refs_uniq\n",
    "obi grep --require-rank=family --taxonomy /Users/elizabethmallott/Dropbox/Projects/gut_microbiome/Caatinga_marmosets/diet_data/taxonomy_invert_small/taxonomy/ncbi_tax /Users/elizabethmallott/Dropbox/Projects/gut_microbiome/Caatinga_marmosets/diet_data/taxonomy_invert_small/081720_coi_refs_uniq /Users/elizabethmallott/Dropbox/Projects/gut_microbiome/Caatinga_marmosets/diet_data/taxonomy_invert_small/081720_coi_refs_uniq_clean\n",
    "obi grep --require-rank=family --taxonomy /Users/elizabethmallott/Dropbox/Projects/gut_microbiome/Caatinga_marmosets/diet_data/taxonomy/taxonomy/ncbi_tax /Users/elizabethmallott/Dropbox/Projects/gut_microbiome/Caatinga_marmosets/diet_data/taxonomy/081720_trnl_refs_uniq /Users/elizabethmallott/Dropbox/Projects/gut_microbiome/Caatinga_marmosets/diet_data/taxonomy/081720_trnl_refs_uniq_clean\n",
    "obi grep --require-rank=family --taxonomy /Users/elizabethmallott/Dropbox/Projects/gut_microbiome/Caatinga_marmosets/diet_data/taxonomy/taxonomy/ncbi_tax /Users/elizabethmallott/Dropbox/Projects/gut_microbiome/Caatinga_marmosets/diet_data/taxonomy/081720_12S_refs_uniq /Users/elizabethmallott/Dropbox/Projects/gut_microbiome/Caatinga_marmosets/diet_data/taxonomy/081720_12S_refs_uniq_clean\n",
    "obi grep --require-rank=family --taxonomy /Users/elizabethmallott/Dropbox/Projects/gut_microbiome/Caatinga_marmosets/diet_data/taxonomy/taxonomy/ncbi_tax /Users/elizabethmallott/Dropbox/Projects/gut_microbiome/Caatinga_marmosets/diet_data/taxonomy/081720_16S_refs_uniq /Users/elizabethmallott/Dropbox/Projects/gut_microbiome/Caatinga_marmosets/diet_data/taxonomy/081720_16S_refs_uniq_clean"
   ]
  },
  {
   "cell_type": "markdown",
   "metadata": {},
   "source": [
    "Build an obitools-specific reference database to make the next step more efficient."
   ]
  },
  {
   "cell_type": "code",
   "execution_count": null,
   "metadata": {},
   "outputs": [],
   "source": [
    "obi build_ref_db -t 0.85 --taxonomy /Users/elizabethmallott/Dropbox/Projects/gut_microbiome/Caatinga_marmosets/diet_data/taxonomy_invert_small/taxonomy/ncbi_tax /Users/elizabethmallott/Dropbox/Projects/gut_microbiome/Caatinga_marmosets/diet_data/taxonomy_invert_small/081720_coi_refs_uniq_clean /Users/elizabethmallott/Dropbox/Projects/gut_microbiome/Caatinga_marmosets/diet_data/taxonomy_invert_small/081720_coi_refs_db_80\n",
    "obi build_ref_db -t 0.80 --taxonomy /Users/elizabethmallott/Dropbox/Projects/gut_microbiome/Caatinga_marmosets/diet_data/taxonomy/taxonomy/ncbi_tax /Users/elizabethmallott/Dropbox/Projects/gut_microbiome/Caatinga_marmosets/diet_data/taxonomy/081720_trnl_refs_uniq_clean /Users/elizabethmallott/Dropbox/Projects/gut_microbiome/Caatinga_marmosets/diet_data/taxonomy/081720_trnl_db_80\n",
    "obi build_ref_db -t 0.80 --taxonomy /Users/elizabethmallott/Dropbox/Projects/gut_microbiome/Caatinga_marmosets/diet_data/taxonomy/taxonomy/ncbi_tax /Users/elizabethmallott/Dropbox/Projects/gut_microbiome/Caatinga_marmosets/diet_data/taxonomy/081720_12S_refs_uniq_clean /Users/elizabethmallott/Dropbox/Projects/gut_microbiome/Caatinga_marmosets/diet_data/taxonomy/081720_12S_db_80\n",
    "obi build_ref_db -t 0.80 --taxonomy /Users/elizabethmallott/Dropbox/Projects/gut_microbiome/Caatinga_marmosets/diet_data/taxonomy/taxonomy/ncbi_tax /Users/elizabethmallott/Dropbox/Projects/gut_microbiome/Caatinga_marmosets/diet_data/taxonomy/081720_16S_refs_uniq_clean /Users/elizabethmallott/Dropbox/Projects/gut_microbiome/Caatinga_marmosets/diet_data/taxonomy/081720_16S_db_80"
   ]
  },
  {
   "cell_type": "markdown",
   "metadata": {},
   "source": [
    "## Assign sequences to taxa\n",
    "Use the ecotag command to assign each experimental sequence to a taxa."
   ]
  },
  {
   "cell_type": "code",
   "execution_count": null,
   "metadata": {},
   "outputs": [],
   "source": [
    "obi ecotag -m 0.85 --taxonomy /Users/elizabethmallott/Dropbox/Projects/gut_microbiome/Caatinga_marmosets/diet_data/taxonomy_invert_small/taxonomy/ncbi_tax -R /Users/elizabethmallott/Dropbox/Projects/gut_microbiome/Caatinga_marmosets/diet_data/taxonomy_invert_small/081720_coi_refs_db_80 /Users/elizabethmallott/Dropbox/Projects/gut_microbiome/Caatinga_marmosets/diet_data/combined_invert_samples_dms/cleaned_sequences /Users/elizabethmallott/Dropbox/Projects/gut_microbiome/Caatinga_marmosets/diet_data/combined_invert_samples_dms/assigned_sequences\n",
    "obi ecotag -m 0.80 --taxonomy /Users/elizabethmallott/Dropbox/Projects/gut_microbiome/Caatinga_marmosets/diet_data/taxonomy/taxonomy/ncbi_tax -R /Users/elizabethmallott/Dropbox/Projects/gut_microbiome/Caatinga_marmosets/diet_data/taxonomy/081720_trnl_db_80 /Users/elizabethmallott/Dropbox/Projects/gut_microbiome/Caatinga_marmosets/diet_data/combined_plant_samples_dms/cleaned_sequences /Users/elizabethmallott/Dropbox/Projects/gut_microbiome/Caatinga_marmosets/diet_data/combined_plant_samples_dms/assigned_sequences\n",
    "obi ecotag -m 0.80 --taxonomy /Users/elizabethmallott/Dropbox/Projects/gut_microbiome/Caatinga_marmosets/diet_data/taxonomy/taxonomy/ncbi_tax -R /Users/elizabethmallott/Dropbox/Projects/gut_microbiome/Caatinga_marmosets/diet_data/taxonomy/081720_12S_db_80 /Users/elizabethmallott/Dropbox/Projects/gut_microbiome/Caatinga_marmosets/diet_data/combined_oldvert_samples_dms/cleaned_sequences /Users/elizabethmallott/Dropbox/Projects/gut_microbiome/Caatinga_marmosets/diet_data/combined_oldvert_samples_dms/assigned_sequences\n",
    "obi ecotag -m 0.80 --taxonomy /Users/elizabethmallott/Dropbox/Projects/gut_microbiome/Caatinga_marmosets/diet_data/taxonomy/taxonomy/ncbi_tax -R /Users/elizabethmallott/Dropbox/Projects/gut_microbiome/Caatinga_marmosets/diet_data/taxonomy/081720_16S_db_80 /Users/elizabethmallott/Dropbox/Projects/gut_microbiome/Caatinga_marmosets/diet_data/combined_newvert_samples_dms/cleaned_sequences /Users/elizabethmallott/Dropbox/Projects/gut_microbiome/Caatinga_marmosets/diet_data/combined_newvert_samples_dms/assigned_sequences"
   ]
  },
  {
   "cell_type": "markdown",
   "metadata": {},
   "source": [
    "# Double check results and export\n",
    "Get basic output stats on the results, align the sequences, and creat a visual representation of the analysis history."
   ]
  },
  {
   "cell_type": "code",
   "execution_count": null,
   "metadata": {},
   "outputs": [],
   "source": [
    "obi stats -c SCIENTIFIC_NAME /Users/elizabethmallott/Dropbox/Projects/gut_microbiome/Caatinga_marmosets/diet_data/combined_invert_samples_dms/assigned_sequences\n",
    "obi align -t 0.95 /Users/elizabethmallott/Dropbox/Projects/gut_microbiome/Caatinga_marmosets/diet_data/combined_invert_samples_dms/assigned_sequences /Users/elizabethmallott/Dropbox/Projects/gut_microbiome/Caatinga_marmosets/diet_data/combined_invert_samples_dms/aligned_assigned_sequences\n",
    "obi history -d /Users/elizabethmallott/Dropbox/Projects/gut_microbiome/Caatinga_marmosets/diet_data/combined_invert_samples_dms > /Users/elizabethmallott/Dropbox/Projects/gut_microbiome/Caatinga_marmosets/diet_data/invert.dot\n",
    "dot -Tpng /Users/elizabethmallott/Dropbox/Projects/gut_microbiome/Caatinga_marmosets/diet_data/invert.dot -o /Users/elizabethmallott/Dropbox/Projects/gut_microbiome/Caatinga_marmosets/diet_data/invert.png\n",
    "\n",
    "obi stats -c SCIENTIFIC_NAME /Users/elizabethmallott/Dropbox/Projects/gut_microbiome/Caatinga_marmosets/diet_data/combined_plant_samples_dms/assigned_sequences\n",
    "obi align -t 0.95 /Users/elizabethmallott/Dropbox/Projects/gut_microbiome/Caatinga_marmosets/diet_data/combined_plant_samples_dms/assigned_sequences /Users/elizabethmallott/Dropbox/Projects/gut_microbiome/Caatinga_marmosets/diet_data/combined_plant_samples_dms/aligned_assigned_sequences\n",
    "obi history -d /Users/elizabethmallott/Dropbox/Projects/gut_microbiome/Caatinga_marmosets/diet_data/combined_plant_samples_dms/aligned_assigned_sequences > /Users/elizabethmallott/Dropbox/Projects/gut_microbiome/Caatinga_marmosets/diet_data/plant.dot\n",
    "dot -Tpng /Users/elizabethmallott/Dropbox/Projects/gut_microbiome/Caatinga_marmosets/diet_data/plant.dot -o /Users/elizabethmallott/Dropbox/Projects/gut_microbiome/Caatinga_marmosets/diet_data/plant.png\n",
    "\n",
    "obi stats -c SCIENTIFIC_NAME /Users/elizabethmallott/Dropbox/Projects/gut_microbiome/Caatinga_marmosets/diet_data/combined_oldvert_samples_dms/assigned_sequences\n",
    "obi align -t 0.95 /Users/elizabethmallott/Dropbox/Projects/gut_microbiome/Caatinga_marmosets/diet_data/combined_oldvert_samples_dms/assigned_sequences /Users/elizabethmallott/Dropbox/Projects/gut_microbiome/Caatinga_marmosets/diet_data/combined_oldvert_samples_dms/aligned_assigned_sequences\n",
    "obi history -d /Users/elizabethmallott/Dropbox/Projects/gut_microbiome/Caatinga_marmosets/diet_data/combined_oldvert_samples_dms > /Users/elizabethmallott/Dropbox/Projects/gut_microbiome/Caatinga_marmosets/diet_data/combined_oldvert_samples_dms.dot\n",
    "dot -Tpng /Users/elizabethmallott/Dropbox/Projects/gut_microbiome/Caatinga_marmosets/diet_data/combined_oldvert_samples_dms.dot -o /Users/elizabethmallott/Dropbox/Projects/gut_microbiome/Caatinga_marmosets/diet_data/combined_oldvert_samples_dms.png\n",
    "\n",
    "obi stats -c SCIENTIFIC_NAME /Users/elizabethmallott/Dropbox/Projects/gut_microbiome/Caatinga_marmosets/diet_data/combined_newvert_samples_dms/assigned_sequences\n",
    "obi align -t 0.95 /Users/elizabethmallott/Dropbox/Projects/gut_microbiome/Caatinga_marmosets/diet_data/combined_newvert_samples_dms/assigned_sequences /Users/elizabethmallott/Dropbox/Projects/gut_microbiome/Caatinga_marmosets/diet_data/combined_newvert_samples_dms/aligned_assigned_sequences\n",
    "obi history -d /Users/elizabethmallott/Dropbox/Projects/gut_microbiome/Caatinga_marmosets/diet_data/combined_newvert_samples_dms > /Users/elizabethmallott/Dropbox/Projects/gut_microbiome/Caatinga_marmosets/diet_data/combined_newvert_samples_dms.dot\n",
    "dot -Tpng /Users/elizabethmallott/Dropbox/Projects/gut_microbiome/Caatinga_marmosets/diet_data/combined_newvert_samples_dms.dot -o /Users/elizabethmallott/Dropbox/Projects/gut_microbiome/Caatinga_marmosets/diet_data/combined_newvert_samples_dms.png"
   ]
  },
  {
   "cell_type": "markdown",
   "metadata": {},
   "source": [
    "Export the results as a table in order to run downstream analyses."
   ]
  },
  {
   "cell_type": "code",
   "execution_count": null,
   "metadata": {},
   "outputs": [],
   "source": [
    "obi export --tab-output --header /Users/elizabethmallott/Dropbox/Projects/gut_microbiome/Caatinga_marmosets/diet_data/combined_invert_samples_dms/assigned_sequences > /Users/elizabethmallott/Dropbox/Projects/gut_microbiome/Caatinga_marmosets/diet_data/invert_results.tsv\n",
    "obi export --tab-output --header /Users/elizabethmallott/Dropbox/Projects/gut_microbiome/Caatinga_marmosets/diet_data/combined_plant_samples_dms/assigned_sequences > /Users/elizabethmallott/Dropbox/Projects/gut_microbiome/Caatinga_marmosets/diet_data/plant_results.tsv\n",
    "obi export --tab-output --header /Users/elizabethmallott/Dropbox/Projects/gut_microbiome/Caatinga_marmosets/diet_data/combined_oldvert_samples_dms/assigned_sequences > /Users/elizabethmallott/Dropbox/Projects/gut_microbiome/Caatinga_marmosets/diet_data/oldvert_results.tsv\n",
    "obi export --tab-output --header /Users/elizabethmallott/Dropbox/Projects/gut_microbiome/Caatinga_marmosets/diet_data/combined_newvert_samples_dms/assigned_sequences > /Users/elizabethmallott/Dropbox/Projects/gut_microbiome/Caatinga_marmosets/diet_data/newvert_results.tsv"
   ]
  }
 ],
 "metadata": {
  "kernelspec": {
   "display_name": "Bash",
   "language": "bash",
   "name": "bash"
  },
  "language_info": {
   "codemirror_mode": "shell",
   "file_extension": ".sh",
   "mimetype": "text/x-sh",
   "name": "bash"
  }
 },
 "nbformat": 4,
 "nbformat_minor": 4
}
