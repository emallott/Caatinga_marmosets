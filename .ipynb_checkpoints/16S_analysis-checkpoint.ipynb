{
 "cells": [
  {
   "cell_type": "markdown",
   "id": "50cba7ee",
   "metadata": {},
   "source": [
    "# 16S Analysis of Caatinga marmoset gut microbiome\n",
    "\n",
    "We analyzed 16S sequences from 69 marmoset fecal samples to examine gut microbial community composition. Sequence analysis was performed in QIIME (v2.2021.2) and downstream statistics were done in R (see 16S_Seq_Data_Analysis.R file).\n",
    "\n",
    "## Importing sequences into QIIME\n",
    "\n",
    "Demultiplexed sequences were imported using the manifest method. The manifest_builder.R script was used to create the Manifest.csv file below. We then examined the sequences to make sure the import proceeded as expected."
   ]
  },
  {
   "cell_type": "code",
   "execution_count": null,
   "id": "1d48a7b2",
   "metadata": {},
   "outputs": [],
   "source": [
    "qiime tools import --type 'SampleData[PairedEndSequencesWithQuality]' --input-path Manifest.csv\n",
    "    --output-path paired-end-demux.qza --input-format PairedEndFastqManifestPhred33\n",
    "\n",
    "qiime demux summarize --i-data paired-end-demux.qza --o-visualization paired-end-demux.qzv"
   ]
  },
  {
   "cell_type": "markdown",
   "id": "d18bf2b0",
   "metadata": {},
   "source": [
    "## Trimming, quality-filtering, and ASV determination\n",
    "\n",
    "DADA2 was used to denoise the 16S sequences."
   ]
  },
  {
   "cell_type": "code",
   "execution_count": null,
   "id": "d88e8221",
   "metadata": {},
   "outputs": [],
   "source": [
    "qiime dada2 denoise-paired --i-demultiplexed-seqs paired-end-demux.qza --p-trunc-len-f 290 --p-trunc-len-r 290 \\\n",
    "    --p-trim-left-f 20 --p-trim-left-r 20 --p-max-ee 5 --p-n-threads 8 --o-table table.qza \\\n",
    "    --o-representative-sequences rep-seqs.qza --o-denoising-stats dada2-stats.qza\n",
    "\n",
    "qiime metadata tabulate --m-input-file data2-stats.qza --o-visualization dada2-stats.qzv\n",
    "\n",
    "qiime feature-table summarize --i-table table.qza --o-visualization table.qzv \\\n",
    "    --m-sample-metadata-file caatinga_metadata.txt"
   ]
  },
  {
   "cell_type": "markdown",
   "id": "7cf3bf6b",
   "metadata": {},
   "source": [
    "## Generate phylogenetic tree\n",
    "\n",
    "A phylogenetic tree was constructed using a QIIME pipeline incorporating fasttree and mafft."
   ]
  },
  {
   "cell_type": "code",
   "execution_count": null,
   "id": "b6063343",
   "metadata": {},
   "outputs": [],
   "source": [
    "qiime phylogeny align-to-tree-mafft-fastree --i-sequences rep-seqs.qza --o-alignment aligned-rep-seqs.qza \\\n",
    "    --o-masked-alignment masked-aligned-rep-seqs.qza --o-tree unrooted-tree.qza --o-rooted-tree rooted-tree.qza"
   ]
  },
  {
   "cell_type": "markdown",
   "id": "e2522b40",
   "metadata": {},
   "source": [
    "## Assign taxonomy\n",
    "\n",
    "Taxonomy was assigned using a naive Bayesian classifier trained on the Greengenes 13_8 database. Sequences from mitochondria and chloroplast were removed."
   ]
  },
  {
   "cell_type": "code",
   "execution_count": null,
   "id": "c5bc5134",
   "metadata": {},
   "outputs": [],
   "source": [
    "qiime feature-classifier classify-sklearn --i-classifier gg-13-8-99-nb-classifier-qiime2021-2.qza \\\n",
    "    --i-reads rep-seqs.qza --o-classification taxonomy.qza\n",
    "\n",
    "qiime taxa filter-table --i-table table.qza --i-taxonomy taxonomy.qza --p-exclude mitochondria,chloroplast \\\n",
    "    --o-filtered-table table-nomito-nochloro.qza\n",
    "    \n",
    "qiime feature-table summarize --i-table table-nomito-nochloro.qza --o-visualization table-nomito-nochloro.qzv \\\n",
    "    --m-sample-metadata-file caatinga_metadata.txt"
   ]
  },
  {
   "cell_type": "markdown",
   "id": "634fe0f5",
   "metadata": {},
   "source": [
    "## Taxa barplots and feature tables\n",
    "\n",
    "Barplot visualizations were created from the filtered feature table to visualize taxonomic assignments. Feature tables were collapsed at the level of phyla, family, and genus, and all tables were exported."
   ]
  },
  {
   "cell_type": "code",
   "execution_count": null,
   "id": "872f5beb",
   "metadata": {},
   "outputs": [],
   "source": [
    "qiime taxa barplot --i-table table-nomito-nochloro.qza --i-taxonomy taxonomy.qza \\\n",
    "    --m-metadata-file caatinga_metadata.txt --o-visualization taxa-plots-nomito-nochloro.qzv\n",
    "\n",
    "qiime tools export --input-path table-nomito-nochloro.qza --output-path asv_table\n",
    "\n",
    "qiime tools export --input-path taxonomy.qza --output-path asv_table\n",
    "\n",
    "cp ./asv_table/taxonomy.tsv ./asv_table/biom-taxonomy.tsv\n",
    "\n",
    "#edit header of biom-taxonomy .tsv to `#OTUID taxonomy confidence`\n",
    "\n",
    "biom add-metadata -i ./asv_table/feature-table.biom  -o ./asv_table/feature-table-withtax.biom \\\n",
    "    --observation-metadata-fp ./asv_table/biom-taxonomy.tsv  --sc-separated taxonomy\n",
    "    \n",
    "biom convert -i ./asv_table/feature-table-withtax.biom -o ./asv_table/feature-table-full.tsv --to-tsv \\\n",
    "    --header-key taxonomy\n",
    "    \n",
    "qiime taxa collapse --i-table table-nomito-nochloro.qza --i-taxonomy taxonomy.qza --p-level 2 \\\n",
    "    --o-collapsed-table phyla_table.qza\n",
    "\n",
    "qiime taxa collapse --i-table table-nomito-nochloro.qza --i-taxonomy taxonomy.qza --p-level 5 \\\n",
    "    --o-collapsed-table family_table.qza\n",
    "\n",
    "qiime taxa collapse --i-table table-nomito-nochloro.qza --i-taxonomy taxonomy.qza --p-level 6 \\\n",
    "    --o-collapsed-table genus_table.qza\n",
    "\n",
    "qiime tools export --input-path phyla_table.qza --output-path phyla_table\n",
    "    \n",
    "biom convert -i ./phyla_table/feature-table.biom -o ./phyla_table/phyla-table-full.tsv --to-tsv\n",
    "    \n",
    "qiime tools export --input-path family_table.qza --output-path family_table\n",
    "    \n",
    "biom convert -i ./family_table/feature-table.biom -o ./family_table/family-table-full.tsv --to-tsv \n",
    "\n",
    "qiime tools export --input-path genus_table.qza --output-path genus_table\n",
    "\n",
    "biom convert -i ./genus_table/feature-table.biom -o ./genus_table/genus-table-full.tsv --to-tsv "
   ]
  },
  {
   "cell_type": "markdown",
   "id": "cb463732",
   "metadata": {},
   "source": [
    "## Diversity analyses\n",
    "\n",
    "QIIME's core diversity pipeline was used to calculate alpha and beta diversity. The feature table was rarefied to 10,000 ASVs per sample prior to calculation of diversity indices. Alpha diversity values and beta diversity distance matrices were exported for downstream analysis in R."
   ]
  },
  {
   "cell_type": "code",
   "execution_count": null,
   "id": "d2189f08",
   "metadata": {},
   "outputs": [],
   "source": [
    "qiime diversity core-metrics-phylogenetic --i-phylogeny rooted-tree.qza --i-table table-nomito-nochloro.qza \n",
    "    --p-sampling-depth 10000 --m-metadata-file caatinga_metadata.txt --output-dir core-metrics-results-10000\n",
    "\n",
    "qiime tools export --input-path core-metrics-results-10000/faith_pd_vector.qza --output-path alpha_out\n",
    "\n",
    "qiime tools export --input-path core-metrics-results-10000/shannon_vector.qza --output-path alpha_out\n",
    "\n",
    "qiime tools export --input-path core-metrics-results-10000/observed_otus_vector.qza --output-path alpha_out\n",
    "\n",
    "qiime tools extract --input-path core-metrics-results-10000/unweighted_unifrac_distance_matrix.qza \n",
    "    --output-path core-metrics-results-10000\n",
    "\n",
    "qiime tools extract --input-path core-metrics-results-10000/weighted_unifrac_distance_matrix.qza \n",
    "    --output-path core-metrics-results-1000\n",
    "\n",
    "qiime tools extract --input-path core-metrics-results-10000/bray_curtis_distance_matrix.qza \n",
    "    --output-path core-metrics-results-10000\n",
    "\n",
    "qiime tools extract --input-path core-metrics-results-10000/jaccard_distance_matrix.qza \n",
    "    --output-path core-metrics-results-10000"
   ]
  }
 ],
 "metadata": {
  "kernelspec": {
   "display_name": "Bash",
   "language": "bash",
   "name": "bash"
  }
 },
 "nbformat": 4,
 "nbformat_minor": 5
}
